{
 "cells": [
  {
   "cell_type": "markdown",
   "id": "02a4408a",
   "metadata": {},
   "source": [
    "- CONECTA E CAPACITA – PARCERIA CEPEDI - IFBA\n",
    "- CURSO DE DESENVOLVIMENTO BACK-END COM PYTHON \n",
    "- MÓDULO 1 - LÓGICA DE PROGRAMAÇÃO COM PYTHON\n",
    "- PROFESSORA KARINE PRADO\n",
    "- Aluno: Gilbert Carmo Macedo"
   ]
  },
  {
   "cell_type": "markdown",
   "id": "da172982",
   "metadata": {},
   "source": [
    "Utilizando a linguagem de programação Python, crie os seguintes programas:\n",
    "\n",
    "**1. Função sem parâmetros e sem retorno**  \n",
    "Crie uma função chamada boas_vindas() que não receba parâmetros e não \n",
    "retorne valores. A função deve: \n",
    "- Perguntar ao usuário quantos alunos estão presentes. \n",
    "- Em seguida, solicitar o nome de cada aluno (usando um laço de repetição). \n",
    "- Exibir uma mensagem de boas-vindas para cada aluno individualmente. "
   ]
  },
  {
   "cell_type": "code",
   "execution_count": null,
   "id": "c5294a8f",
   "metadata": {},
   "outputs": [],
   "source": [
    "def boas_vindas():\n",
    "    qtde = int(input('Quantos alunos presentes em sala? '))\n",
    "\n",
    "    for i in range(qtde):\n",
    "        aluno = input(f'Digite o nome do {i}° aluno: ')\n",
    "        print(f'Bem-Vindo(a), {aluno}!')\n",
    "        \n",
    "boas_vindas()"
   ]
  },
  {
   "cell_type": "markdown",
   "id": "9013d5a0",
   "metadata": {},
   "source": [
    "**2. Função com parâmetro e sem retorno**\n",
    "\n",
    "Crie uma função chamada saudar(nome, turno) que receba como parâmetros o \n",
    "nome de uma pessoa e o turno (M = manhã, T = tarde, N = noite). \n",
    "A função deve exibir uma saudação personalizada, de acordo com o turno \n",
    "informado. Regras: \n",
    "- Se turno = \"M\", exibir \"Bom dia, <nome>!\". \n",
    "- Se turno = \"T\", exibir \"Boa tarde, <nome>!\". \n",
    "- Se turno = \"N\", exibir \"Boa noite, <nome>!\". \n",
    "- Se for informado um valor inválido, exibir \"Turno inválido para <nome>.\". "
   ]
  },
  {
   "cell_type": "code",
   "execution_count": null,
   "id": "93e06bb0",
   "metadata": {},
   "outputs": [],
   "source": [
    "def saudar(nome, turno):\n",
    "    \n",
    "    if turno.strip().upper() == 'M':\n",
    "        print(f'{nome}, Bom dia!')\n",
    "    elif turno.strip().upper() == 'T':\n",
    "        print(f'{nome}, Boa Tarde!')\n",
    "    elif turno.strip().upper() == 'N':\n",
    "        print(f'{nome}, Boa Noite!')\n",
    "    else:\n",
    "        print(f'Turno inválido para {nome}')\n",
    "        \n",
    "        \n",
    "nome = input('Digite o nome da pessoa: ')\n",
    "turno = input('Digite o turno (M, T, N): ')\n",
    "\n",
    "saudar(nome, turno)"
   ]
  },
  {
   "cell_type": "markdown",
   "id": "af30b57e",
   "metadata": {},
   "source": [
    "**3. Função sem parâmetros e com retorno**\n",
    " \n",
    "Crie uma função ler_numero() que solicite ao usuário digitar um número inteiro \n",
    "e retorne esse valor. \n",
    "No programa principal, chame a função duas vezes e exiba a soma dos valores \n",
    "digitados. "
   ]
  },
  {
   "cell_type": "code",
   "execution_count": null,
   "id": "fbb0146b",
   "metadata": {},
   "outputs": [],
   "source": [
    "def ler_numero():\n",
    "    num = int(input('Digite um numero inteiro: '))\n",
    "    return num\n",
    "\n",
    "num1 = ler_numero()\n",
    "num2 = ler_numero()\n",
    "\n",
    "print('A soma dos números é: {}' .format(num1 + num2))"
   ]
  },
  {
   "cell_type": "markdown",
   "id": "bbd0e328",
   "metadata": {},
   "source": [
    "**4. Função com parâmetros e com retorno**\n",
    " \n",
    "Crie uma função maior_numero(a, b) que receba dois números e retorne o maior \n",
    "deles. \n",
    "Teste a função chamando-a três vezes com valores diferentes."
   ]
  },
  {
   "cell_type": "code",
   "execution_count": null,
   "id": "14004e35",
   "metadata": {},
   "outputs": [],
   "source": [
    "def maior_numero(a, b):\n",
    "    if a > b:\n",
    "        return a\n",
    "    else:\n",
    "        return b\n",
    "\n",
    "\n",
    "resposta1 = maior_numero(5, 2)\n",
    "resposta2 = maior_numero(3, 7)\n",
    "resposta3 = maior_numero(9, 9)\n",
    "\n",
    "print(f'Resposta 1: {resposta1}\\nResposta 2: {resposta2}\\nResposta 3: {resposta3}')\n",
    "\n",
    "#? Tirar duvida com a professora"
   ]
  },
  {
   "cell_type": "markdown",
   "id": "869c8af5",
   "metadata": {},
   "source": [
    "**5. Função com parâmetro com valor padrão**\n",
    " \n",
    "Crie uma função calcular_area_retangulo(base, altura=2) que calcule e retorne a \n",
    "área de um retângulo. \n",
    "Caso a altura não seja informada, ela deve assumir o valor padrão 2. "
   ]
  },
  {
   "cell_type": "code",
   "execution_count": 22,
   "id": "47fd370c",
   "metadata": {},
   "outputs": [
    {
     "name": "stdout",
     "output_type": "stream",
     "text": [
      "O resultado 1: 25\n",
      "O resultado 2: 14\n"
     ]
    }
   ],
   "source": [
    "def calcular_area_retangulo(base, altura=2):\n",
    "    return base * altura\n",
    "\n",
    "result1 = calcular_area_retangulo(5, 5)\n",
    "result2 = calcular_area_retangulo(7, )\n",
    "\n",
    "print(f'O resultado 1: {result1}')\n",
    "print(f'O resultado 2: {result2}')"
   ]
  },
  {
   "cell_type": "markdown",
   "id": "1d90735d",
   "metadata": {},
   "source": [
    "**6. Função com laço de repetição**\n",
    "\n",
    "Crie uma função tabuada(n) que receba um número inteiro n e exiba sua tabuada \n",
    "de 1 a 10. \n",
    "Chame a função para exibir a tabuada do número que o usuário informar. "
   ]
  },
  {
   "cell_type": "code",
   "execution_count": 5,
   "id": "69a00fff",
   "metadata": {},
   "outputs": [
    {
     "name": "stdout",
     "output_type": "stream",
     "text": [
      "Tabuada do 5:\n",
      "5 x 1 = 5\n",
      "5 x 2 = 10\n",
      "5 x 3 = 15\n",
      "5 x 4 = 20\n",
      "5 x 5 = 25\n",
      "5 x 6 = 30\n",
      "5 x 7 = 35\n",
      "5 x 8 = 40\n",
      "5 x 9 = 45\n",
      "5 x 10 = 50\n"
     ]
    }
   ],
   "source": [
    "def tabuada(n):\n",
    "    print(f'Tabuada do {n}:')\n",
    "    for i in range(1, 11):\n",
    "        print(f'{n} x {i} = {n * i}')\n",
    "        \n",
    "tabuada(5)"
   ]
  },
  {
   "cell_type": "markdown",
   "id": "595b1b47",
   "metadata": {},
   "source": [
    "**7. Função com lista como parâmetro**\n",
    " \n",
    "Crie uma função media_lista(lista) que receba uma lista de números e retorne a \n",
    "média aritmética. \n",
    "Teste a função com a lista [10, 7, 8, 9]. "
   ]
  },
  {
   "cell_type": "code",
   "execution_count": null,
   "id": "eac1fee7",
   "metadata": {},
   "outputs": [
    {
     "name": "stdout",
     "output_type": "stream",
     "text": [
      "A media aritmética da lista é:  8.5\n"
     ]
    }
   ],
   "source": [
    "def media_lista(lista):\n",
    "    soma = 0\n",
    "    for i in lista:\n",
    "        soma += i\n",
    "    \n",
    "    return soma / len(lista)\n",
    "\n",
    "lista_num = [10, 7, 8, 9]\n",
    "\n",
    "resultado = media_lista(lista_num)\n",
    "\n",
    "print(f'A media aritmética da lista é: ', resultado)"
   ]
  },
  {
   "cell_type": "markdown",
   "id": "a9bea595",
   "metadata": {},
   "source": [
    "**8. Função que retorna múltiplos valores (tupla)**\n",
    "\n",
    "Crie uma função estatisticas(lista) que receba uma lista de números e retorne o \n",
    "maior, o menor e a média dos valores (nessa ordem).<br>\n",
    "No programa principal, desempacote os valores retornados e exiba-os \n",
    "separadamente."
   ]
  },
  {
   "cell_type": "code",
   "execution_count": 7,
   "id": "0e966df7",
   "metadata": {},
   "outputs": [
    {
     "name": "stdout",
     "output_type": "stream",
     "text": [
      "Maior: 7\n",
      "Menor: 0\n",
      "Média: 3.0\n"
     ]
    }
   ],
   "source": [
    "def estatisticas(lista):\n",
    "    maior = max(lista)\n",
    "    menor = min(lista)\n",
    "    media = sum(lista) / len(lista)\n",
    "    return maior, menor, media\n",
    "\n",
    "lista_teste = [1, 7, 5, 2, 0]\n",
    "\n",
    "maior, menor, media = estatisticas(lista_teste)\n",
    "\n",
    "print(f'Maior: {maior}')\n",
    "print(f'Menor: {menor}')\n",
    "print(f'Média: {media}')"
   ]
  },
  {
   "cell_type": "markdown",
   "id": "8ffa64fc",
   "metadata": {},
   "source": [
    "**9. Função que integra condicionais, laços e listas**\n",
    " \n",
    "Crie uma função filtrar_pares(lista) que receba uma lista de números e retorne<br> \n",
    "uma nova lista apenas com os números pares maiores que 10.<br>\n",
    "Exemplo:<br>\n",
    "filtrar_pares([2, 11, 14, 7, 20, 3]) \n",
    "- Saída esperada: [14, 20]"
   ]
  },
  {
   "cell_type": "code",
   "execution_count": 2,
   "id": "a05f564f",
   "metadata": {},
   "outputs": [
    {
     "name": "stdout",
     "output_type": "stream",
     "text": [
      "[14, 20]\n"
     ]
    }
   ],
   "source": [
    "def filtrar_pares(lista):\n",
    "    pares = []\n",
    "    for i in lista:\n",
    "        if i % 2 == 0 and i > 10:\n",
    "            pares.append(i)\n",
    "    return pares\n",
    "\n",
    "lista_num = [2, 11, 14, 7, 20, 3]\n",
    "\n",
    "resposta = filtrar_pares(lista_num) #? Tirar duvida com a professora\n",
    "\n",
    "print(resposta)"
   ]
  },
  {
   "cell_type": "markdown",
   "id": "e4ecb4be",
   "metadata": {},
   "source": [
    "**10. Função com dicionário**\n",
    "\n",
    "Crie uma função chamada contar_notas(notas) que receba uma lista de notas (valores<br>\n",
    "inteiros de 0 a 10) e retorne um dicionário, onde as chaves são as notas e os valores \n",
    "representam quantas vezes cada nota aparece na lista.<br>\n",
    "Exemplo de uso:<br>\n",
    "notas = [7, 8, 10, 7, 6, 8, 7, 10, 9, 8]<br>\n",
    "print(contar_notas(notas))<br>\n",
    "Saída esperada:<br>\n",
    "{7: 3, 8: 3, 10: 2, 6: 1, 9: 1} "
   ]
  },
  {
   "cell_type": "code",
   "execution_count": 3,
   "id": "ada317a7",
   "metadata": {},
   "outputs": [
    {
     "name": "stdout",
     "output_type": "stream",
     "text": [
      "{7: 3, 8: 3, 10: 2, 6: 1, 9: 1}\n"
     ]
    }
   ],
   "source": [
    "def contar_notas(notas):\n",
    "    contagem = {}\n",
    "    \n",
    "    for nota in notas:\n",
    "        if nota in contagem:\n",
    "            contagem[nota] += 1\n",
    "        else:\n",
    "            contagem[nota] = 1\n",
    "    return contagem\n",
    "\n",
    "resposta = contar_notas([7, 8, 10, 7, 6, 8, 7, 10, 9, 8])\n",
    "\n",
    "print(resposta)        "
   ]
  },
  {
   "cell_type": "markdown",
   "id": "64a0b652",
   "metadata": {},
   "source": [
    "**11. Usando dicionario de dados:**\n",
    "\n",
    "Escreva um programa em python que receba uma lista de números inteiros e crie um dicionário onde: <br>\n",
    "A chave é o número original: <br>\n",
    "valor é o quadrado desse número (utilize num **2 para elevar num ao quadrado) <br>\n",
    "Use um laço for para preencher o dicionário."
   ]
  },
  {
   "cell_type": "code",
   "execution_count": 13,
   "id": "44d9991b",
   "metadata": {},
   "outputs": [
    {
     "name": "stdout",
     "output_type": "stream",
     "text": [
      "{1: 1, 2: 4, 3: 9, 4: 16, 5: 25}\n",
      "Teste Nome\n",
      "Num 2000\n",
      "True False\n"
     ]
    }
   ],
   "source": [
    "def quadrado_num(lista): #[1, 2, 3, 4, 5]\n",
    "    dicionario = {}\n",
    "    \n",
    "    for num in lista:\n",
    "        dicionario[num] = num **2\n",
    "    \n",
    "    return dicionario\n",
    "\n",
    "resposta = quadrado_num([1, 2, 3, 4, 5])\n",
    "\n",
    "print(resposta)\n",
    "\n",
    "\n",
    "teste = {\"Teste\": \"Nome\",\n",
    "         \"Num\": 2000,\n",
    "         \"True\": False\n",
    "}\n",
    "\n",
    "for chave, valor in teste.items():\n",
    "    print(chave, valor)\n"
   ]
  }
 ],
 "metadata": {
  "kernelspec": {
   "display_name": "Python 3",
   "language": "python",
   "name": "python3"
  },
  "language_info": {
   "codemirror_mode": {
    "name": "ipython",
    "version": 3
   },
   "file_extension": ".py",
   "mimetype": "text/x-python",
   "name": "python",
   "nbconvert_exporter": "python",
   "pygments_lexer": "ipython3",
   "version": "3.13.5"
  }
 },
 "nbformat": 4,
 "nbformat_minor": 5
}
