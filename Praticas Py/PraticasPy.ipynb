{
 "cells": [
  {
   "cell_type": "markdown",
   "metadata": {},
   "source": [
    "# 👨🏾‍💻 Práticas Python"
   ]
  },
  {
   "cell_type": "markdown",
   "metadata": {},
   "source": [
    "##### 💻Funções e Listas"
   ]
  },
  {
   "cell_type": "code",
   "execution_count": null,
   "metadata": {},
   "outputs": [],
   "source": [
    "# Criando uma função com 2 argumentos e um valor de retorno\n",
    "\n",
    "def desconto(price, discount):\n",
    "    return price * (1 - discount / 100)\n",
    "\n",
    "desc = desconto(50, 10)\n",
    "\n",
    "print(\"Valor com desconto: R${}\".format(desc))"
   ]
  },
  {
   "cell_type": "code",
   "execution_count": null,
   "metadata": {},
   "outputs": [],
   "source": [
    "# Manipulando Lista e Função\n",
    "\n",
    "# Criando uma lista vazia\n",
    "cardapio = []\n",
    "\n",
    "item1 = \"Strogonoff\"\n",
    "item2 = \"Pizza\"\n",
    "item3 = \"Suco de Limão\"\n",
    "\n",
    "# Função para adicionar um item ao menu de um cardapio\n",
    "def add_ao_cardapio(cardapio, item):\n",
    "    cardapio.append(item)\n",
    "    \n",
    "add_ao_cardapio(cardapio, item1)\n",
    "print(cardapio)\n",
    "\n",
    "add_ao_cardapio(cardapio, item2)\n",
    "print(cardapio)\n",
    "\n",
    "add_ao_cardapio(cardapio, item3)\n",
    "print(cardapio)"
   ]
  },
  {
   "cell_type": "code",
   "execution_count": null,
   "metadata": {},
   "outputs": [],
   "source": [
    "# Função para adicionar de forma iterativa um item em uma lista\n",
    "\n",
    "# Lista Vazia\n",
    "cart = []\n",
    "\n",
    "# Função para adicionar a lista de forma iterativa\n",
    "def add_to_cart(carro):\n",
    "    while True:\n",
    "        modelo = input(\"Digite um carro (ou 'sair' para finalizar): \")\n",
    "        if modelo.lower() == \"sair\":\n",
    "            break\n",
    "        carro.append(modelo)\n",
    "\n",
    "# Chamada da função\n",
    "add_to_cart(cart)\n",
    "    \n",
    "print(cart)"
   ]
  },
  {
   "cell_type": "markdown",
   "metadata": {},
   "source": [
    "##### 💻Funções Booleanas"
   ]
  },
  {
   "cell_type": "code",
   "execution_count": null,
   "metadata": {},
   "outputs": [],
   "source": [
    "# Função para retornar um valor booleano (true ou false)\n",
    "\n",
    "def pontuação(score):\n",
    "    if score >= 70:\n",
    "        return True\n",
    "\n",
    "resultado = pontuação(60)\n",
    "\n",
    "print(resultado)"
   ]
  },
  {
   "cell_type": "code",
   "execution_count": null,
   "metadata": {},
   "outputs": [],
   "source": [
    "books = ['1984', 'War and Peace', 'The Great Gatsby']\n",
    "book = 'Animal Farm'\n",
    "\n",
    "def book_in_library(books, book):\n",
    "  return book in books\n",
    "\n",
    "print(book_in_library(books, book))"
   ]
  },
  {
   "cell_type": "markdown",
   "metadata": {},
   "source": [
    "*O operador in permite verificar facilmente se um item está numa lista específica. <br> Ele retorna True se o item ocorrer uma ou mais vezes na lista, e False se não ocorrer.*"
   ]
  },
  {
   "cell_type": "code",
   "execution_count": null,
   "metadata": {},
   "outputs": [],
   "source": [
    "# Compreensão de listas\n",
    "\n",
    "nums = []\n",
    "\n",
    "# Adicionando 1 ao 50 numeros na lista\n",
    "for i in range(1, 51):\n",
    "    nums.append(i)    \n",
    "print(nums)\n",
    "\n",
    "# Utiliziando compreensão de listas\n",
    "nums = [x for x in range(1, 51)]\n",
    "print(nums)\n",
    "\n",
    "tags = [\"python\", \"ciência\", \"computação\"]\n",
    "hashtags = [\"#\" + i for i in tags]\n",
    "print(hashtags)\n",
    "\n",
    "cidades = [\"Lisboa\", \"Brasilia\", \"Madrid\", \"Barcelona\"]\n",
    "maiusculas = [x.upper() for x in cidades]\n",
    "print(maiusculas)\n",
    "\n",
    "points = [7, 5, 16, 30, 39]\n",
    "win = [x for x in points if x > 10]\n",
    "print(win)"
   ]
  },
  {
   "cell_type": "code",
   "execution_count": null,
   "metadata": {},
   "outputs": [
    {
     "name": "stdout",
     "output_type": "stream",
     "text": [
      "['button', 'window', 'defenestrate']\n"
     ]
    }
   ],
   "source": [
    "# Tarefa: Dada uma lista de palavras, use uma compreensão de lista para criar uma nova lista que\n",
    "# inclua apenas as palavras que têm mais de 4 letras\n",
    "\n",
    "word = [\"tree\", \"button\", \"cat\", \"window\", \"defenestrate\"]\n",
    "\n",
    "lista = [x for x in word if len(x) > 4]\n",
    "print(lista)\n",
    "\n",
    "# x representa um ponteiro que aponta para cada item dentro da lista\n",
    "# x -> tree (indice 0), x -> button (indice 1)..."
   ]
  }
 ],
 "metadata": {
  "kernelspec": {
   "display_name": "Python 3",
   "language": "python",
   "name": "python3"
  },
  "language_info": {
   "codemirror_mode": {
    "name": "ipython",
    "version": 3
   },
   "file_extension": ".py",
   "mimetype": "text/x-python",
   "name": "python",
   "nbconvert_exporter": "python",
   "pygments_lexer": "ipython3",
   "version": "3.13.1"
  }
 },
 "nbformat": 4,
 "nbformat_minor": 2
}
